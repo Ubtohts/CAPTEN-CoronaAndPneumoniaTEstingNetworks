{
 "cells": [
  {
   "cell_type": "code",
   "execution_count": 8,
   "metadata": {},
   "outputs": [],
   "source": [
    "import cv2\n",
    "import numpy as np\n",
    "\n",
    "data_dir = \"Dataset/VALIDATION/PNEUMONIA/\"\n",
    "size = 160\n",
    "for i in range(1,size+1):\n",
    "    img = cv2.imread(data_dir + str(i) + \".jpeg\")\n",
    "    img = cv2.resize(img, (500,500))\n",
    "    cv2.imwrite(data_dir + str(i) + \".jpeg\", img)"
   ]
  },
  {
   "cell_type": "code",
   "execution_count": null,
   "metadata": {},
   "outputs": [],
   "source": []
  }
 ],
 "metadata": {
  "kernelspec": {
   "display_name": "Python 3",
   "language": "python",
   "name": "python3"
  },
  "language_info": {
   "codemirror_mode": {
    "name": "ipython",
    "version": 3
   },
   "file_extension": ".py",
   "mimetype": "text/x-python",
   "name": "python",
   "nbconvert_exporter": "python",
   "pygments_lexer": "ipython3",
   "version": "3.7.4"
  }
 },
 "nbformat": 4,
 "nbformat_minor": 2
}
